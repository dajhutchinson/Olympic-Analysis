{
 "cells": [
  {
   "cell_type": "markdown",
   "metadata": {},
   "source": [
    "# Overview Analysis\n",
    "In this notebook I investigate the overall trends in the data and identify areas worth exploring further\n",
    "\n",
    "## Table of Contents\n",
    "- [Data Preparation](#Data-Preparation)\n",
    "- [Dataset Details](#Dataset-Details)\n",
    "- [Overall Age Distribution](#Overall-Age-Distribution)\n",
    "- [Normalised Age Distribution](#Normalised-Age-Distribution)\n",
    "- [Areas for further investigation](#Areas-for-further-investigation)"
   ]
  },
  {
   "cell_type": "markdown",
   "metadata": {},
   "source": [
    "# Data-Preparation"
   ]
  },
  {
   "cell_type": "code",
   "execution_count": 12,
   "metadata": {},
   "outputs": [],
   "source": [
    "import pandas as pd\n",
    "import numpy as np\n",
    "import seaborn as sns\n",
    "import matplotlib.pyplot as plt\n",
    "\n",
    "import DataCleaner"
   ]
  },
  {
   "cell_type": "code",
   "execution_count": 13,
   "metadata": {},
   "outputs": [],
   "source": [
    "%matplotlib inline\n",
    "pd.set_option('display.max_rows', None) # Display full dataframe tables\n",
    "pd.set_option('display.max_columns', None)"
   ]
  },
  {
   "cell_type": "code",
   "execution_count": 14,
   "metadata": {},
   "outputs": [],
   "source": [
    "# Read in data\n",
    "athlete_events_df=pd.read_csv(\"data/athlete_events.csv\")\n",
    "noc_regions_df=pd.read_csv(\"data/noc_regions.csv\",index_col=\"NOC\")"
   ]
  },
  {
   "cell_type": "code",
   "execution_count": 15,
   "metadata": {},
   "outputs": [],
   "source": [
    "# Clean data (See DataCleaner.py for details)\n",
    "athlete_df=DataCleaner.clean_athlete_events(athlete_events_df)\n",
    "noc_df=DataCleaner.clean_noc_regions(noc_regions_df)"
   ]
  },
  {
   "cell_type": "code",
   "execution_count": 16,
   "metadata": {},
   "outputs": [],
   "source": [
    "# Add Field\n",
    "athlete_df[\"Medalist\"]=athlete_df[\"Medal\"].isin([\"gold\",\"silver\",\"bronze\"]) # boolean for whether athlete won a medal\n",
    "athlete_df[\"Birth_Year\"]=athlete_df[\"Year\"]-athlete_df[\"Age\"]"
   ]
  },
  {
   "cell_type": "code",
   "execution_count": 17,
   "metadata": {},
   "outputs": [
    {
     "data": {
      "text/html": [
       "<div>\n",
       "<style scoped>\n",
       "    .dataframe tbody tr th:only-of-type {\n",
       "        vertical-align: middle;\n",
       "    }\n",
       "\n",
       "    .dataframe tbody tr th {\n",
       "        vertical-align: top;\n",
       "    }\n",
       "\n",
       "    .dataframe thead th {\n",
       "        text-align: right;\n",
       "    }\n",
       "</style>\n",
       "<table border=\"1\" class=\"dataframe\">\n",
       "  <thead>\n",
       "    <tr style=\"text-align: right;\">\n",
       "      <th></th>\n",
       "      <th>Athlete_ID</th>\n",
       "      <th>Name</th>\n",
       "      <th>Sex</th>\n",
       "      <th>Age</th>\n",
       "      <th>NOC</th>\n",
       "      <th>Year</th>\n",
       "      <th>Season</th>\n",
       "      <th>Sport</th>\n",
       "      <th>Event</th>\n",
       "      <th>Medal</th>\n",
       "      <th>Medalist</th>\n",
       "      <th>Birth_Year</th>\n",
       "    </tr>\n",
       "  </thead>\n",
       "  <tbody>\n",
       "    <tr>\n",
       "      <th>1</th>\n",
       "      <td>2</td>\n",
       "      <td>a lamusi</td>\n",
       "      <td>M</td>\n",
       "      <td>23.0</td>\n",
       "      <td>chn</td>\n",
       "      <td>2012</td>\n",
       "      <td>summer</td>\n",
       "      <td>judo</td>\n",
       "      <td>extra-lightweight</td>\n",
       "      <td>NaN</td>\n",
       "      <td>False</td>\n",
       "      <td>1989.0</td>\n",
       "    </tr>\n",
       "    <tr>\n",
       "      <th>4</th>\n",
       "      <td>5</td>\n",
       "      <td>christine jacoba aaftink</td>\n",
       "      <td>F</td>\n",
       "      <td>21.0</td>\n",
       "      <td>ned</td>\n",
       "      <td>1988</td>\n",
       "      <td>winter</td>\n",
       "      <td>speed skating</td>\n",
       "      <td>500 metres</td>\n",
       "      <td>NaN</td>\n",
       "      <td>False</td>\n",
       "      <td>1967.0</td>\n",
       "    </tr>\n",
       "    <tr>\n",
       "      <th>5</th>\n",
       "      <td>5</td>\n",
       "      <td>christine jacoba aaftink</td>\n",
       "      <td>F</td>\n",
       "      <td>21.0</td>\n",
       "      <td>ned</td>\n",
       "      <td>1988</td>\n",
       "      <td>winter</td>\n",
       "      <td>speed skating</td>\n",
       "      <td>1,000 metres</td>\n",
       "      <td>NaN</td>\n",
       "      <td>False</td>\n",
       "      <td>1967.0</td>\n",
       "    </tr>\n",
       "    <tr>\n",
       "      <th>6</th>\n",
       "      <td>5</td>\n",
       "      <td>christine jacoba aaftink</td>\n",
       "      <td>F</td>\n",
       "      <td>25.0</td>\n",
       "      <td>ned</td>\n",
       "      <td>1992</td>\n",
       "      <td>winter</td>\n",
       "      <td>speed skating</td>\n",
       "      <td>500 metres</td>\n",
       "      <td>NaN</td>\n",
       "      <td>False</td>\n",
       "      <td>1967.0</td>\n",
       "    </tr>\n",
       "    <tr>\n",
       "      <th>7</th>\n",
       "      <td>5</td>\n",
       "      <td>christine jacoba aaftink</td>\n",
       "      <td>F</td>\n",
       "      <td>25.0</td>\n",
       "      <td>ned</td>\n",
       "      <td>1992</td>\n",
       "      <td>winter</td>\n",
       "      <td>speed skating</td>\n",
       "      <td>1,000 metres</td>\n",
       "      <td>NaN</td>\n",
       "      <td>False</td>\n",
       "      <td>1967.0</td>\n",
       "    </tr>\n",
       "  </tbody>\n",
       "</table>\n",
       "</div>"
      ],
      "text/plain": [
       "   Athlete_ID                      Name Sex   Age  NOC  Year  Season  \\\n",
       "1           2                  a lamusi   M  23.0  chn  2012  summer   \n",
       "4           5  christine jacoba aaftink   F  21.0  ned  1988  winter   \n",
       "5           5  christine jacoba aaftink   F  21.0  ned  1988  winter   \n",
       "6           5  christine jacoba aaftink   F  25.0  ned  1992  winter   \n",
       "7           5  christine jacoba aaftink   F  25.0  ned  1992  winter   \n",
       "\n",
       "           Sport              Event Medal  Medalist  Birth_Year  \n",
       "1           judo  extra-lightweight   NaN     False      1989.0  \n",
       "4  speed skating         500 metres   NaN     False      1967.0  \n",
       "5  speed skating       1,000 metres   NaN     False      1967.0  \n",
       "6  speed skating         500 metres   NaN     False      1967.0  \n",
       "7  speed skating       1,000 metres   NaN     False      1967.0  "
      ]
     },
     "execution_count": 17,
     "metadata": {},
     "output_type": "execute_result"
    }
   ],
   "source": [
    "athlete_df.head()"
   ]
  },
  {
   "cell_type": "markdown",
   "metadata": {},
   "source": [
    "# Dataset Details"
   ]
  },
  {
   "cell_type": "code",
   "execution_count": 18,
   "metadata": {},
   "outputs": [
    {
     "name": "stdout",
     "output_type": "stream",
     "text": [
      "'athlete_df' contains 200,969 rows covering:\n",
      "\t18 summer games (1948-2016) & 18 winter games (1948-2014).\n",
      "\t41 sports (27 summer, 14 winter).\n",
      "\t0 sports have appeared in both the winter & summer games ()\n",
      "\t278 events (221 summer, 67 winter).\n",
      "\n"
     ]
    }
   ],
   "source": [
    "print(\"'athlete_df' contains {:,} rows covering:\".format(athlete_df.shape[0]))\n",
    "summer_games=athlete_df[athlete_df[\"Season\"]==\"summer\"]\n",
    "winter_games=athlete_df[athlete_df[\"Season\"]==\"winter\"]\n",
    "print(\"\\t{} summer games ({}-{}) & {} winter games ({}-{}).\".format(len(summer_games[\"Year\"].unique()),summer_games[\"Year\"].min(),summer_games[\"Year\"].max(),len(winter_games[\"Year\"].unique()),winter_games[\"Year\"].min(),winter_games[\"Year\"].max()))\n",
    "print(\"\\t{} sports ({} summer, {} winter).\".format(len(athlete_df[\"Sport\"].unique()),len(athlete_df[athlete_df[\"Season\"]==\"summer\"][\"Sport\"].unique()),len(athlete_df[athlete_df[\"Season\"]==\"winter\"][\"Sport\"].unique())))\n",
    "\n",
    "both_games_sports=list(set(athlete_df[athlete_df[\"Season\"]==\"summer\"][\"Sport\"].unique()) & set(athlete_df[athlete_df[\"Season\"]==\"winter\"][\"Sport\"].unique()))\n",
    "print(\"\\t{} sport{} {} appeared in both the winter & summer games ({})\".format(len(both_games_sports),\"\" if len(both_games_sports)==1 else \"s\",\"has\" if len(both_games_sports)==1 else \"have\",\",\".join(both_games_sports)))\n",
    "print(\"\\t{} events ({} summer, {} winter).\\n\".format(len(athlete_df[\"Event\"].unique()),len(athlete_df[athlete_df[\"Season\"]==\"summer\"][\"Event\"].unique()),len(athlete_df[athlete_df[\"Season\"]==\"winter\"][\"Event\"].unique())))\n"
   ]
  },
  {
   "cell_type": "markdown",
   "metadata": {},
   "source": [
    "# Overall Age Distribution"
   ]
  },
  {
   "cell_type": "code",
   "execution_count": 29,
   "metadata": {},
   "outputs": [
    {
     "data": {
      "text/plain": [
       "<matplotlib.legend.Legend at 0x127dd910>"
      ]
     },
     "execution_count": 29,
     "metadata": {},
     "output_type": "execute_result"
    },
    {
     "data": {
      "image/png": "[encoded data removed]",
      "text/plain": [
       "<Figure size 1008x360 with 1 Axes>"
      ]
     },
     "metadata": {
      "needs_background": "light"
     },
     "output_type": "display_data"
    }
   ],
   "source": [
    "fig,axes=plt.subplots(figsize=(14,5),nrows=1,ncols=1)\n",
    "# kde plot of age distribution for medal winners against non-winners\n",
    "# suggests medal winners are slightly older\n",
    "xlims=(athlete_df[\"Age\"].min(),athlete_df[\"Age\"].max())\n",
    "ylims=(0,.1)\n",
    "eval_points=[i for i in range(int(xlims[0]),int(xlims[1])+1)] # estimate distribution at each year\n",
    "\n",
    "# Plot data for all athletes\n",
    "athlete_df[athlete_df[\"Medalist\"]][\"Age\"].plot.kde(ind=eval_points,xlim=xlims,ylim=ylims,label=\"Medalists\",color=\"gold\",ax=axes)\n",
    "athlete_df[~athlete_df[\"Medalist\"]][\"Age\"].plot.kde(ind=eval_points,xlim=xlims,ylim=ylims,label=\"Non-Medalists\",color=\"blue\",ls=\":\",ax=axes)\n",
    "athlete_df[\"Age\"].plot.kde(ind=eval_points,xlim=xlims,ylim=ylims,label=\"Competitors\",color=\"black\",ax=axes)\n",
    "axes.set_title(\"Age Distribution for Medalists and All Competitors\")\n",
    "axes.set_xlabel(\"Age\")\n",
    "axes.legend()"
   ]
  },
  {
   "cell_type": "markdown",
   "metadata": {},
   "source": [
    "This plot offers up nothing surprising. Most competitors are in their 20s and medalists are likely to be a bit older than their other competitors, likely due to greater experience.\\\n",
    "I shall now consider when an athlete was born in the olympic cycle."
   ]
  },
  {
   "cell_type": "markdown",
   "metadata": {},
   "source": [
    "# Normalised Age Distribution"
   ]
  },
  {
   "cell_type": "code",
   "execution_count": 20,
   "metadata": {},
   "outputs": [],
   "source": [
    "# Determine how many years after an olympics an athlete was born\n",
    "# This is complicated by the fact that the summer & winter games were in sync until 1994\n",
    "summer_athletes=(athlete_df[\"Season\"]==\"summer\")\n",
    "pre_change_winter_athletes=((athlete_df[\"Season\"]==\"winter\") & (athlete_df[\"Birth_Year\"]<1994))\n",
    "post_change_winter_athletes=((athlete_df[\"Season\"]==\"winter\") & (athlete_df[\"Birth_Year\"]>=1994))\n",
    "\n",
    "athlete_df.loc[summer_athletes,\"Cycle_Age\"]=(athlete_df.loc[summer_athletes,\"Birth_Year\"]%4)\n",
    "athlete_df.loc[pre_change_winter_athletes,\"Cycle_Age\"]=(athlete_df.loc[pre_change_winter_athletes,\"Birth_Year\"]%4)\n",
    "athlete_df.loc[post_change_winter_athletes,\"Cycle_Age\"]=((athlete_df.loc[post_change_winter_athletes,\"Birth_Year\"]-2)%4)"
   ]
  },
  {
   "cell_type": "code",
   "execution_count": 27,
   "metadata": {},
   "outputs": [
    {
     "data": {
      "text/plain": [
       "<matplotlib.legend.Legend at 0x1266e3f0>"
      ]
     },
     "execution_count": 27,
     "metadata": {},
     "output_type": "execute_result"
    },
    {
     "data": {
      "image/png": "[encoded data removed]",
      "text/plain": [
       "<Figure size 1008x360 with 1 Axes>"
      ]
     },
     "metadata": {
      "needs_background": "light"
     },
     "output_type": "display_data"
    }
   ],
   "source": [
    "medalists=athlete_df[athlete_df[\"Medalist\"]][\"Cycle_Age\"].value_counts(normalize=True).sort_index()\n",
    "non_medalists=athlete_df[~athlete_df[\"Medalist\"]][\"Cycle_Age\"].value_counts(normalize=True).sort_index()\n",
    "competitors=athlete_df[\"Cycle_Age\"].value_counts(normalize=True).sort_index()\n",
    "\n",
    "fig,axes=plt.subplots(figsize=(14,5),nrows=1,ncols=1)\n",
    "# kde plot of age distribution for medal winners against non-winners\n",
    "# suggests medal winners are slightly older\n",
    "xlims=(0,3)\n",
    "x_tick_labels=range(0,4)\n",
    "ylims=(.22,.28)\n",
    "y_tick_labels=[x/100 for x in range(int(100*ylims[0]),int(100*ylims[1])+1,1)]\n",
    "\n",
    "# Plot data for all athletes\n",
    "medalists.plot(ax=axes,ylim=ylims,xlim=xlims,label=\"Medalists\",c=\"gold\")\n",
    "non_medalists.plot(ax=axes,ylim=ylims,xlim=xlims,label=\"Non-Medalists\",c=\"blue\",ls=\":\")\n",
    "competitors.plot(ax=axes,ylim=ylims,xlim=xlims,label=\"All Competitors\",c=\"black\")\n",
    "axes.set_title(\"Normalised Age Distribution for Medalists and All Competitors\")\n",
    "axes.axhline(.25,color=\"red\",ls=\"--\")\n",
    "axes.set_xlabel(\"Normalised Age\")\n",
    "axes.set_xticks(x_tick_labels)\n",
    "axes.set_yticks(y_tick_labels)\n",
    "axes.legend()"
   ]
  },
  {
   "cell_type": "markdown",
   "metadata": {},
   "source": [
    "This plots suggests that more olympic athletes are born in an Olympic year, than expected, and less medalists are born than expected.\\\n",
    "The plot suggests that the chance of being an olympic athlete decreases the longer after an olympiad you are born.\\\n",
    "Of course the discrepancies are very small here so I shall now use statistical techniques to determine wethere these results are significant or not."
   ]
  },
  {
   "cell_type": "markdown",
   "metadata": {},
   "source": [
    "## Statistical Signifance"
   ]
  },
  {
   "cell_type": "code",
   "execution_count": null,
   "metadata": {},
   "outputs": [],
   "source": [
    "# TODO hypothesis tests on conclusion drawn from previous plot"
   ]
  },
  {
   "cell_type": "markdown",
   "metadata": {},
   "source": [
    "# Areas for further investigation\n",
    "Split by:\n",
    "- Gender\n",
    "- Winter or Summer Games\n",
    "- Sport"
   ]
  }
 ],
 "metadata": {
  "kernelspec": {
   "display_name": "Python 3",
   "language": "python",
   "name": "python3"
  },
  "language_info": {
   "codemirror_mode": {
    "name": "ipython",
    "version": 3
   },
   "file_extension": ".py",
   "mimetype": "text/x-python",
   "name": "python",
   "nbconvert_exporter": "python",
   "pygments_lexer": "ipython3",
   "version": "3.7.3"
  }
 },
 "nbformat": 4,
 "nbformat_minor": 2
}
