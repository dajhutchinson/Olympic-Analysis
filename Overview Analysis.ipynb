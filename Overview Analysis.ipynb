{
 "cells": [
  {
   "cell_type": "markdown",
   "metadata": {},
   "source": [
    "# Overview Analysis\n",
    "In this notebook I investigate the overall trends in the data and identify areas worth exploring further\n",
    "\n",
    "## Table of Contents\n",
    "- [Data Preparation](#Data-Preparation)\n",
    "- [Dataset Details](#Dataset-Details)\n",
    "- [Overall Age Distribution](#Overall-Age-Distribution)\n",
    "- [Normalised Age Distribution](#Normalised-Age-Distribution)\n",
    "    - [Statistical Significance](#Statistical-Significance)\n",
    "- [Medals per Age Band](#Medals-per-Age-Band)\n",
    "- [Summary](#Summary)\n",
    "    - [Areas for Further Investigation](#Areas-for-Further-Investigation)"
   ]
  },
  {
   "cell_type": "markdown",
   "metadata": {},
   "source": [
    "# Data-Preparation"
   ]
  },
  {
   "cell_type": "code",
   "execution_count": 49,
   "metadata": {},
   "outputs": [],
   "source": [
    "import pandas as pd\n",
    "import numpy as np\n",
    "import seaborn as sns\n",
    "import matplotlib.pyplot as plt\n",
    "\n",
    "import DataCleaner\n",
    "%matplotlib inline"
   ]
  },
  {
   "cell_type": "code",
   "execution_count": 50,
   "metadata": {},
   "outputs": [],
   "source": [
    "# Read in data\n",
    "athlete_events_df=pd.read_csv(\"data/athlete_events.csv\")\n",
    "noc_regions_df=pd.read_csv(\"data/noc_regions.csv\",index_col=\"NOC\")"
   ]
  },
  {
   "cell_type": "code",
   "execution_count": 51,
   "metadata": {},
   "outputs": [],
   "source": [
    "# Clean data (See DataCleaner.py for details)\n",
    "athlete_df=DataCleaner.clean_athlete_events(athlete_events_df)\n",
    "noc_df=DataCleaner.clean_noc_regions(noc_regions_df)"
   ]
  },
  {
   "cell_type": "code",
   "execution_count": 52,
   "metadata": {},
   "outputs": [],
   "source": [
    "# Add Field\n",
    "athlete_df[\"Medalist\"]=athlete_df[\"Medal\"].isin([\"gold\",\"silver\",\"bronze\"]) # boolean for whether athlete won a medal\n",
    "athlete_df[\"Birth_Year\"]=athlete_df[\"Year\"]-athlete_df[\"Age\"]\n",
    "athlete_df[[\"Age\",\"Birth_Year\"]]=athlete_df[[\"Age\",\"Birth_Year\"]].astype(int)"
   ]
  },
  {
   "cell_type": "code",
   "execution_count": 53,
   "metadata": {},
   "outputs": [
    {
     "data": {
      "text/html": [
       "<div>\n",
       "<style scoped>\n",
       "    .dataframe tbody tr th:only-of-type {\n",
       "        vertical-align: middle;\n",
       "    }\n",
       "\n",
       "    .dataframe tbody tr th {\n",
       "        vertical-align: top;\n",
       "    }\n",
       "\n",
       "    .dataframe thead th {\n",
       "        text-align: right;\n",
       "    }\n",
       "</style>\n",
       "<table border=\"1\" class=\"dataframe\">\n",
       "  <thead>\n",
       "    <tr style=\"text-align: right;\">\n",
       "      <th></th>\n",
       "      <th>Athlete_ID</th>\n",
       "      <th>Name</th>\n",
       "      <th>Sex</th>\n",
       "      <th>Age</th>\n",
       "      <th>NOC</th>\n",
       "      <th>Year</th>\n",
       "      <th>Season</th>\n",
       "      <th>Sport</th>\n",
       "      <th>Event</th>\n",
       "      <th>Medal</th>\n",
       "      <th>Medalist</th>\n",
       "      <th>Birth_Year</th>\n",
       "    </tr>\n",
       "  </thead>\n",
       "  <tbody>\n",
       "    <tr>\n",
       "      <th>1</th>\n",
       "      <td>2</td>\n",
       "      <td>a lamusi</td>\n",
       "      <td>M</td>\n",
       "      <td>23</td>\n",
       "      <td>chn</td>\n",
       "      <td>2012</td>\n",
       "      <td>summer</td>\n",
       "      <td>judo</td>\n",
       "      <td>extra-lightweight</td>\n",
       "      <td>NaN</td>\n",
       "      <td>False</td>\n",
       "      <td>1989</td>\n",
       "    </tr>\n",
       "    <tr>\n",
       "      <th>4</th>\n",
       "      <td>5</td>\n",
       "      <td>christine jacoba aaftink</td>\n",
       "      <td>F</td>\n",
       "      <td>21</td>\n",
       "      <td>ned</td>\n",
       "      <td>1988</td>\n",
       "      <td>winter</td>\n",
       "      <td>speed skating</td>\n",
       "      <td>500 metres</td>\n",
       "      <td>NaN</td>\n",
       "      <td>False</td>\n",
       "      <td>1967</td>\n",
       "    </tr>\n",
       "    <tr>\n",
       "      <th>5</th>\n",
       "      <td>5</td>\n",
       "      <td>christine jacoba aaftink</td>\n",
       "      <td>F</td>\n",
       "      <td>21</td>\n",
       "      <td>ned</td>\n",
       "      <td>1988</td>\n",
       "      <td>winter</td>\n",
       "      <td>speed skating</td>\n",
       "      <td>1,000 metres</td>\n",
       "      <td>NaN</td>\n",
       "      <td>False</td>\n",
       "      <td>1967</td>\n",
       "    </tr>\n",
       "    <tr>\n",
       "      <th>6</th>\n",
       "      <td>5</td>\n",
       "      <td>christine jacoba aaftink</td>\n",
       "      <td>F</td>\n",
       "      <td>25</td>\n",
       "      <td>ned</td>\n",
       "      <td>1992</td>\n",
       "      <td>winter</td>\n",
       "      <td>speed skating</td>\n",
       "      <td>500 metres</td>\n",
       "      <td>NaN</td>\n",
       "      <td>False</td>\n",
       "      <td>1967</td>\n",
       "    </tr>\n",
       "    <tr>\n",
       "      <th>7</th>\n",
       "      <td>5</td>\n",
       "      <td>christine jacoba aaftink</td>\n",
       "      <td>F</td>\n",
       "      <td>25</td>\n",
       "      <td>ned</td>\n",
       "      <td>1992</td>\n",
       "      <td>winter</td>\n",
       "      <td>speed skating</td>\n",
       "      <td>1,000 metres</td>\n",
       "      <td>NaN</td>\n",
       "      <td>False</td>\n",
       "      <td>1967</td>\n",
       "    </tr>\n",
       "  </tbody>\n",
       "</table>\n",
       "</div>"
      ],
      "text/plain": [
       "   Athlete_ID                      Name Sex  Age  NOC  Year  Season  \\\n",
       "1           2                  a lamusi   M   23  chn  2012  summer   \n",
       "4           5  christine jacoba aaftink   F   21  ned  1988  winter   \n",
       "5           5  christine jacoba aaftink   F   21  ned  1988  winter   \n",
       "6           5  christine jacoba aaftink   F   25  ned  1992  winter   \n",
       "7           5  christine jacoba aaftink   F   25  ned  1992  winter   \n",
       "\n",
       "           Sport              Event Medal  Medalist  Birth_Year  \n",
       "1           judo  extra-lightweight   NaN     False        1989  \n",
       "4  speed skating         500 metres   NaN     False        1967  \n",
       "5  speed skating       1,000 metres   NaN     False        1967  \n",
       "6  speed skating         500 metres   NaN     False        1967  \n",
       "7  speed skating       1,000 metres   NaN     False        1967  "
      ]
     },
     "execution_count": 53,
     "metadata": {},
     "output_type": "execute_result"
    }
   ],
   "source": [
    "athlete_df.head()"
   ]
  },
  {
   "cell_type": "code",
   "execution_count": 54,
   "metadata": {},
   "outputs": [
    {
     "data": {
      "text/html": [
       "<div>\n",
       "<style scoped>\n",
       "    .dataframe tbody tr th:only-of-type {\n",
       "        vertical-align: middle;\n",
       "    }\n",
       "\n",
       "    .dataframe tbody tr th {\n",
       "        vertical-align: top;\n",
       "    }\n",
       "\n",
       "    .dataframe thead th {\n",
       "        text-align: right;\n",
       "    }\n",
       "</style>\n",
       "<table border=\"1\" class=\"dataframe\">\n",
       "  <thead>\n",
       "    <tr style=\"text-align: right;\">\n",
       "      <th></th>\n",
       "      <th>Name</th>\n",
       "      <th>Sex</th>\n",
       "      <th>NOC</th>\n",
       "      <th>Season</th>\n",
       "      <th>Sport</th>\n",
       "      <th>Birth_Year</th>\n",
       "      <th>Num_Medals</th>\n",
       "      <th>Events</th>\n",
       "      <th>Years</th>\n",
       "      <th>Median_Age</th>\n",
       "      <th>Medalist</th>\n",
       "    </tr>\n",
       "    <tr>\n",
       "      <th>Athlete_ID</th>\n",
       "      <th></th>\n",
       "      <th></th>\n",
       "      <th></th>\n",
       "      <th></th>\n",
       "      <th></th>\n",
       "      <th></th>\n",
       "      <th></th>\n",
       "      <th></th>\n",
       "      <th></th>\n",
       "      <th></th>\n",
       "      <th></th>\n",
       "    </tr>\n",
       "  </thead>\n",
       "  <tbody>\n",
       "    <tr>\n",
       "      <th>2</th>\n",
       "      <td>a lamusi</td>\n",
       "      <td>M</td>\n",
       "      <td>chn</td>\n",
       "      <td>summer</td>\n",
       "      <td>judo</td>\n",
       "      <td>1989</td>\n",
       "      <td>0</td>\n",
       "      <td>[extra-lightweight]</td>\n",
       "      <td>[2012]</td>\n",
       "      <td>23</td>\n",
       "      <td>False</td>\n",
       "    </tr>\n",
       "    <tr>\n",
       "      <th>5</th>\n",
       "      <td>christine jacoba aaftink</td>\n",
       "      <td>F</td>\n",
       "      <td>ned</td>\n",
       "      <td>winter</td>\n",
       "      <td>speed skating</td>\n",
       "      <td>1967</td>\n",
       "      <td>0</td>\n",
       "      <td>[500 metres, 1,000 metres]</td>\n",
       "      <td>[1988, 1992, 1994]</td>\n",
       "      <td>25</td>\n",
       "      <td>False</td>\n",
       "    </tr>\n",
       "    <tr>\n",
       "      <th>6</th>\n",
       "      <td>per knut aaland</td>\n",
       "      <td>M</td>\n",
       "      <td>usa</td>\n",
       "      <td>winter</td>\n",
       "      <td>cross country skiing</td>\n",
       "      <td>1961</td>\n",
       "      <td>0</td>\n",
       "      <td>[10 kilometres, 50 kilometres, 10/15 kilometre...</td>\n",
       "      <td>[1992, 1994]</td>\n",
       "      <td>32</td>\n",
       "      <td>False</td>\n",
       "    </tr>\n",
       "    <tr>\n",
       "      <th>7</th>\n",
       "      <td>john aalberg</td>\n",
       "      <td>M</td>\n",
       "      <td>usa</td>\n",
       "      <td>winter</td>\n",
       "      <td>cross country skiing</td>\n",
       "      <td>1961</td>\n",
       "      <td>0</td>\n",
       "      <td>[10 kilometres, 50 kilometres, 10/15 kilometre...</td>\n",
       "      <td>[1992, 1994]</td>\n",
       "      <td>32</td>\n",
       "      <td>False</td>\n",
       "    </tr>\n",
       "    <tr>\n",
       "      <th>10</th>\n",
       "      <td>einar ferdinand \"einari\" aalto</td>\n",
       "      <td>M</td>\n",
       "      <td>fin</td>\n",
       "      <td>summer</td>\n",
       "      <td>swimming</td>\n",
       "      <td>1926</td>\n",
       "      <td>0</td>\n",
       "      <td>[400 metres freestyle]</td>\n",
       "      <td>[1952]</td>\n",
       "      <td>26</td>\n",
       "      <td>False</td>\n",
       "    </tr>\n",
       "  </tbody>\n",
       "</table>\n",
       "</div>"
      ],
      "text/plain": [
       "                                      Name Sex  NOC  Season  \\\n",
       "Athlete_ID                                                    \n",
       "2                                 a lamusi   M  chn  summer   \n",
       "5                 christine jacoba aaftink   F  ned  winter   \n",
       "6                          per knut aaland   M  usa  winter   \n",
       "7                             john aalberg   M  usa  winter   \n",
       "10          einar ferdinand \"einari\" aalto   M  fin  summer   \n",
       "\n",
       "                           Sport  Birth_Year  Num_Medals  \\\n",
       "Athlete_ID                                                 \n",
       "2                           judo        1989           0   \n",
       "5                  speed skating        1967           0   \n",
       "6           cross country skiing        1961           0   \n",
       "7           cross country skiing        1961           0   \n",
       "10                      swimming        1926           0   \n",
       "\n",
       "                                                       Events  \\\n",
       "Athlete_ID                                                      \n",
       "2                                         [extra-lightweight]   \n",
       "5                                  [500 metres, 1,000 metres]   \n",
       "6           [10 kilometres, 50 kilometres, 10/15 kilometre...   \n",
       "7           [10 kilometres, 50 kilometres, 10/15 kilometre...   \n",
       "10                                     [400 metres freestyle]   \n",
       "\n",
       "                         Years  Median_Age  Medalist  \n",
       "Athlete_ID                                            \n",
       "2                       [2012]          23     False  \n",
       "5           [1988, 1992, 1994]          25     False  \n",
       "6                 [1992, 1994]          32     False  \n",
       "7                 [1992, 1994]          32     False  \n",
       "10                      [1952]          26     False  "
      ]
     },
     "execution_count": 54,
     "metadata": {},
     "output_type": "execute_result"
    }
   ],
   "source": [
    "# Group data such that each athlete only has one entry\n",
    "unique_athlete_df=DataCleaner.unique_athlete(athlete_df)\n",
    "unique_athlete_df.head()"
   ]
  },
  {
   "cell_type": "markdown",
   "metadata": {},
   "source": [
    "# Dataset Details"
   ]
  },
  {
   "cell_type": "code",
   "execution_count": 55,
   "metadata": {},
   "outputs": [
    {
     "name": "stdout",
     "output_type": "stream",
     "text": [
      "`unique_athlete_df` contains 91,562 athletes, 16,109 of whom have won a medal.\n",
      "`athlete_df` contains 200,969 entries.\n",
      "\t91,562 athletes\n",
      "\t200,969 medals\n",
      "\t18 summer games (1948-2016).\n",
      "\t18 winter games (1948-2014).\n",
      "\t41 sports (27 summer, 14 winter).\n",
      "\t278 events (221 summer, 67 winter).\n",
      "\n"
     ]
    }
   ],
   "source": [
    "print(\"`unique_athlete_df` contains {:,} athletes, {:,} of whom have won a medal.\".format(unique_athlete_df.shape[0],unique_athlete_df[\"Medalist\"].sum()))\n",
    "\n",
    "print(\"`athlete_df` contains {:,} entries.\".format(athlete_df.shape[0]))\n",
    "summer_games=athlete_df[athlete_df[\"Season\"]==\"summer\"]\n",
    "winter_games=athlete_df[athlete_df[\"Season\"]==\"winter\"]\n",
    "print(\"\\t{:,} athletes\".format(len(athlete_df[\"Athlete_ID\"].unique())))\n",
    "print(\"\\t{:,} medals\".format(athlete_df[\"Athlete_ID\"].notnull().sum()))\n",
    "print(\"\\t{} summer games ({}-{}).\".format(len(summer_games[\"Year\"].unique()),summer_games[\"Year\"].min(),summer_games[\"Year\"].max()))\n",
    "print(\"\\t{} winter games ({}-{}).\".format(len(winter_games[\"Year\"].unique()),winter_games[\"Year\"].min(),winter_games[\"Year\"].max()))\n",
    "print(\"\\t{} sports ({} summer, {} winter).\".format(len(athlete_df[\"Sport\"].unique()),len(summer_games[\"Sport\"].unique()),len(winter_games[\"Sport\"].unique())))\n",
    "print(\"\\t{} events ({} summer, {} winter).\\n\".format(len(athlete_df[\"Event\"].unique()),len(summer_games[\"Event\"].unique()),len(winter_games[\"Event\"].unique())))\n"
   ]
  },
  {
   "cell_type": "code",
   "execution_count": 56,
   "metadata": {},
   "outputs": [],
   "source": [
    "# labels for plots\n",
    "medalist_label=\"Medalists (n={:,})\".format(unique_athlete_df[\"Medalist\"].sum())\n",
    "competitor_label=\"All Competitors (n={:,})\".format(unique_athlete_df.shape[0])"
   ]
  },
  {
   "cell_type": "markdown",
   "metadata": {},
   "source": [
    "# Overall Age Distribution"
   ]
  },
  {
   "cell_type": "code",
   "execution_count": 57,
   "metadata": {},
   "outputs": [
    {
     "data": {
      "text/plain": [
       "<matplotlib.legend.Legend at 0x1ad0e910>"
      ]
     },
     "execution_count": 57,
     "metadata": {},
     "output_type": "execute_result"
    },
    {
     "data": {
      "image/png": "[encoded data removed]",
      "text/plain": [
       "<Figure size 1008x360 with 1 Axes>"
      ]
     },
     "metadata": {
      "needs_background": "light"
     },
     "output_type": "display_data"
    }
   ],
   "source": [
    "fig,axes=plt.subplots(figsize=(14,5),nrows=1,ncols=1)\n",
    "# kde plot of age distribution for medal winners against non-winners\n",
    "# suggests medal winners are slightly older\n",
    "xlims=(10*(unique_athlete_df[\"Median_Age\"].min()//10),10*np.ceil(unique_athlete_df[\"Median_Age\"].max()/10))\n",
    "ylims=(0,.1)\n",
    "eval_points=[i for i in range(int(xlims[0]),int(xlims[1])+1)] # estimate distribution at each year\n",
    "\n",
    "# Plot data\n",
    "unique_athlete_df[\"Median_Age\"].plot.kde(ind=eval_points,xlim=xlims,ylim=ylims,label=competitor_label,color=\"black\",ax=axes)\n",
    "unique_athlete_df[unique_athlete_df[\"Medalist\"]][\"Median_Age\"].plot.kde(ind=eval_points,xlim=xlims,ylim=ylims,label=medalist_label,color=\"gold\",ax=axes)\n",
    "\n",
    "# Plot means\n",
    "axes.axvline(x=unique_athlete_df[\"Median_Age\"].mean(),color=\"black\",ls=\"--\")\n",
    "axes.axvline(x=unique_athlete_df[unique_athlete_df[\"Medalist\"]][\"Median_Age\"].mean(),color=\"gold\",ls=\"--\")\n",
    "\n",
    "axes.set_title(\"Figure 1: Age Distribution for Medalists and All Competitors\")\n",
    "axes.set_xlabel(\"Median Age\")\n",
    "axes.xaxis.grid(True)\n",
    "axes.legend()"
   ]
  },
  {
   "cell_type": "markdown",
   "metadata": {},
   "source": [
    "This plot offers up nothing surprising. Most competitors are in their 20s and medalists are likely to be a bit older than their other competitors, likely due to greater experience.\\\n",
    "I shall now consider when an athlete was born in the olympic cycle."
   ]
  },
  {
   "cell_type": "markdown",
   "metadata": {},
   "source": [
    "# Normalised Age Distribution"
   ]
  },
  {
   "cell_type": "code",
   "execution_count": 58,
   "metadata": {},
   "outputs": [],
   "source": [
    "# Determine how many years after an olympics an athlete was born\n",
    "# This is complicated by the fact that the summer & winter games were in sync until 1994\n",
    "summer_athletes=(unique_athlete_df[\"Season\"]==\"summer\")\n",
    "pre_change_winter_athletes=((unique_athlete_df[\"Season\"]==\"winter\") & (unique_athlete_df[\"Birth_Year\"]<1994))\n",
    "post_change_winter_athletes=((unique_athlete_df[\"Season\"]==\"winter\") & (unique_athlete_df[\"Birth_Year\"]>=1994))\n",
    "\n",
    "unique_athlete_df.loc[summer_athletes,\"Cycle_Age\"]=(unique_athlete_df.loc[summer_athletes,\"Birth_Year\"]%4)\n",
    "unique_athlete_df.loc[pre_change_winter_athletes,\"Cycle_Age\"]=(unique_athlete_df.loc[pre_change_winter_athletes,\"Birth_Year\"]%4)\n",
    "unique_athlete_df.loc[post_change_winter_athletes,\"Cycle_Age\"]=((unique_athlete_df.loc[post_change_winter_athletes,\"Birth_Year\"]-2)%4)"
   ]
  },
  {
   "cell_type": "code",
   "execution_count": 59,
   "metadata": {},
   "outputs": [
    {
     "data": {
      "text/plain": [
       "<matplotlib.legend.Legend at 0x1ad08cb0>"
      ]
     },
     "execution_count": 59,
     "metadata": {},
     "output_type": "execute_result"
    },
    {
     "data": {
      "image/png": "[encoded data removed]",
      "text/plain": [
       "<Figure size 1008x360 with 1 Axes>"
      ]
     },
     "metadata": {
      "needs_background": "light"
     },
     "output_type": "display_data"
    }
   ],
   "source": [
    "medalists=unique_athlete_df[unique_athlete_df[\"Medalist\"]][\"Cycle_Age\"].value_counts(normalize=True).sort_index()\n",
    "competitors=unique_athlete_df[\"Cycle_Age\"].value_counts(normalize=True).sort_index()\n",
    "\n",
    "fig,axes=plt.subplots(figsize=(14,5),nrows=1,ncols=1)\n",
    "# kde plot of age distribution for medal winners against non-winners\n",
    "# suggests medal winners are slightly older\n",
    "xlims=(-.5,3.5)\n",
    "x_tick_labels=range(0,4)\n",
    "ylims=(.22,.28)\n",
    "y_tick_labels=[x/100 for x in range(int(100*ylims[0]),int(100*ylims[1])+1,1)]\n",
    "\n",
    "# Plot data for all athletes\n",
    "medalists.plot(ax=axes,ylim=ylims,xlim=xlims,label=medalist_label,c=\"gold\")\n",
    "competitors.plot(ax=axes,ylim=ylims,xlim=xlims,label=competitor_label,c=\"black\")\n",
    "\n",
    "axes.set_title(\"Figure 2: Normalised Age Distribution for Medalists and All Competitors\")\n",
    "axes.axhline(y=.25,xmin=.125,xmax=.875,color=\"red\",ls=\"--\")\n",
    "axes.set_xlabel(\"Normalised Age\")\n",
    "axes.set_xticks(x_tick_labels)\n",
    "axes.set_yticks(y_tick_labels)\n",
    "axes.legend()"
   ]
  },
  {
   "cell_type": "markdown",
   "metadata": {},
   "source": [
    "Plot suggests that competitors in general are relatively uniformly distributed, although slightly more athletes are born in the first to years of the olympic cycle.\\\n",
    "Whereas, medalists do not appear to be uniformly distributed, with most medalists being more towards the end of the olympic cycle.\\\n",
    "The differences here are very small so I can going to test the statistical significance of these results."
   ]
  },
  {
   "cell_type": "markdown",
   "metadata": {},
   "source": [
    "## Statistical Significance"
   ]
  },
  {
   "cell_type": "markdown",
   "metadata": {},
   "source": [
    "I use *Pearson's $\\chi^2$ Test* to test whether the the normalised age distribution for Medalists and for competitors follow a uniform distribution."
   ]
  },
  {
   "cell_type": "code",
   "execution_count": 60,
   "metadata": {},
   "outputs": [],
   "source": [
    "from scipy.stats import chisquare"
   ]
  },
  {
   "cell_type": "code",
   "execution_count": 61,
   "metadata": {
    "scrolled": true
   },
   "outputs": [
    {
     "name": "stdout",
     "output_type": "stream",
     "text": [
      "Observed occs: [22955 23013 22849 22745].\n",
      "Expected occs: [22890.5 22890.5 22890.5 22890.5]\n",
      "p_value=0.60683034.\n",
      "*Not* Statistically Significant\n",
      "\n"
     ]
    }
   ],
   "source": [
    "# Test whether the distribution for all *competitors* normalised age follows a uniform distribution\n",
    "f_obs=unique_athlete_df[\"Cycle_Age\"].value_counts().sort_index().values\n",
    "f_exp=np.repeat(sum(f_obs)/4,4)\n",
    "print(\"Observed occs: {}.\\nExpected occs: {}\".format(f_obs,f_exp))\n",
    "_,p_value=chisquare(f_obs,f_exp)\n",
    "print(\"p_value={:.8f}.\\n{}Statistically Significant\\n\".format(p_value,\"\" if (p_value<=.1) else \"*Not* \"))"
   ]
  },
  {
   "cell_type": "code",
   "execution_count": 62,
   "metadata": {},
   "outputs": [
    {
     "name": "stdout",
     "output_type": "stream",
     "text": [
      "Observed occs: [3974 3987 4090 4058].\n",
      "Expected occs: [4027.25 4027.25 4027.25 4027.25]\n",
      "p_value=0.50891174.\n",
      "*Not* Statistically Significant\n",
      "\n"
     ]
    }
   ],
   "source": [
    "# Test whether the distribution for all *medalists* normalised age follows a uniform distribution\n",
    "f_obs=unique_athlete_df[unique_athlete_df[\"Medalist\"]][\"Cycle_Age\"].value_counts().sort_index().values\n",
    "f_exp=np.repeat(sum(f_obs)/4,4)\n",
    "print(\"Observed occs: {}.\\nExpected occs: {}\".format(f_obs,f_exp))\n",
    "_,p_value=chisquare(f_obs,f_exp)\n",
    "print(\"p_value={:.8f}.\\n{}Statistically Significant\\n\".format(p_value,\"\" if (p_value<=.1) else \"*Not* \"))"
   ]
  },
  {
   "cell_type": "markdown",
   "metadata": {},
   "source": [
    "Both tests show that the differences between the observed normalised age distribution and the expected distribution (a uniform distribution) are not statistically significant.\\\n",
    "Thus, on a macro level, I can say that what year someone was born does *not* play a significant part in whether they will become an olympian (or a medalist)."
   ]
  },
  {
   "cell_type": "markdown",
   "metadata": {},
   "source": [
    "# Medals per Age Band"
   ]
  },
  {
   "cell_type": "code",
   "execution_count": 63,
   "metadata": {},
   "outputs": [
    {
     "data": {
      "text/plain": [
       "Text(0.5, 1.0, 'Figure 3: Medals Won by each Normalised Age Group')"
      ]
     },
     "execution_count": 63,
     "metadata": {},
     "output_type": "execute_result"
    },
    {
     "data": {
      "image/png": "[encoded data removed]",
      "text/plain": [
       "<Figure size 432x288 with 1 Axes>"
      ]
     },
     "metadata": {
      "needs_background": "light"
     },
     "output_type": "display_data"
    }
   ],
   "source": [
    "normalised_age_group=unique_athlete_df.groupby(\"Cycle_Age\")\n",
    "medals_won=normalised_age_group[\"Num_Medals\"].sum().sort_index()\n",
    "medals_won.plot.bar(ylim=(0,7000),color=\"gold\")\n",
    "plt.axhline(y=medals_won.values.sum()/4,c=\"red\",ls=\"--\")\n",
    "plt.xticks([0,1,2,3],labels=[\"0\",\"1\",\"2\",\"3\"],rotation=0)\n",
    "plt.xlabel(\"Normalised Age\")\n",
    "plt.ylabel(\"Medals Won\")\n",
    "plt.title(\"Figure 3: Medals Won by each Normalised Age Group\")"
   ]
  },
  {
   "cell_type": "markdown",
   "metadata": {},
   "source": [
    "I supposed that perhaps multi-medal winners were not uniformly distributed. This plot shows the sum total number of medals won by athletes falling into each of the normalised age categories. It is almost *no* discrepancy between each column, showing multi-medal winners are uniformly distributed too."
   ]
  },
  {
   "cell_type": "markdown",
   "metadata": {},
   "source": [
    "# Summary\n",
    "There is no statistically significant evidence that being born in a particular year of an olympic cycle increases the probability that you will compete (or medal) in an Olympics.\n",
    "\n",
    "## Areas for Further Investigation\n",
    "With no unexpected results when looking at the data set as a whole, I am going to investigate different subsets. Namely split by:\n",
    "- [Sex](Sex%20Analysis.ipynb)\n",
    "- Winter or Summer Games\n",
    "- Sport"
   ]
  },
  {
   "cell_type": "code",
   "execution_count": null,
   "metadata": {},
   "outputs": [],
   "source": []
  }
 ],
 "metadata": {
  "kernelspec": {
   "display_name": "Python 3",
   "language": "python",
   "name": "python3"
  },
  "language_info": {
   "codemirror_mode": {
    "name": "ipython",
    "version": 3
   },
   "file_extension": ".py",
   "mimetype": "text/x-python",
   "name": "python",
   "nbconvert_exporter": "python",
   "pygments_lexer": "ipython3",
   "version": "3.7.3"
  }
 },
 "nbformat": 4,
 "nbformat_minor": 2
}
