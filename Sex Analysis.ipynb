{
 "cells": [
  {
   "cell_type": "markdown",
   "metadata": {},
   "source": [
    "# Sex Analysis"
   ]
  },
  {
   "cell_type": "markdown",
   "metadata": {},
   "source": [
    "In this project I am investigating whether when someone is born (in an Olympic cycle) is a statiscally significant indicator for whether they will become an olympian.\\\n",
    "In [Overview Analsysis](Overview%20Analysis.ipynb) I investigated this for the whole dataset and found *no* evidence that age is a significant indicator.\\\n",
    "Here I investigate whether this is still true when considering the sex of an athlete.\n",
    "\n",
    "## Table of Contents\n",
    "- [Data Preparation](#Data-Preparation)\n",
    "- [Dataset Details](#Dataset-Details)\n",
    "- [Normalised Age Distribution](#Normalised-Age-Distribution)\n",
    " - [Statistical Significance](#Statistical-Significance)\n",
    "- [Conclusion](#Conclusion)"
   ]
  },
  {
   "cell_type": "markdown",
   "metadata": {},
   "source": [
    "# Data Preparation"
   ]
  },
  {
   "cell_type": "code",
   "execution_count": 1,
   "metadata": {},
   "outputs": [],
   "source": [
    "import pandas as pd\n",
    "import numpy as np\n",
    "import matplotlib.pyplot as plt\n",
    "\n",
    "import DataCleaner\n",
    "%matplotlib inline"
   ]
  },
  {
   "cell_type": "code",
   "execution_count": 2,
   "metadata": {},
   "outputs": [],
   "source": [
    "# Read in data\n",
    "athlete_events_df=pd.read_csv(\"data/athlete_events.csv\")\n",
    "noc_regions_df=pd.read_csv(\"data/noc_regions.csv\",index_col=\"NOC\")"
   ]
  },
  {
   "cell_type": "code",
   "execution_count": 3,
   "metadata": {},
   "outputs": [],
   "source": [
    "# Clean data (See DataCleaner.py for details)\n",
    "athlete_df=DataCleaner.clean_athlete_events(athlete_events_df)\n",
    "noc_df=DataCleaner.clean_noc_regions(noc_regions_df)"
   ]
  },
  {
   "cell_type": "code",
   "execution_count": 4,
   "metadata": {},
   "outputs": [],
   "source": [
    "# Add Field\n",
    "athlete_df[\"Medalist\"]=athlete_df[\"Medal\"].isin([\"gold\",\"silver\",\"bronze\"]) # boolean for whether athlete won a medal\n",
    "athlete_df[\"Birth_Year\"]=athlete_df[\"Year\"]-athlete_df[\"Age\"]"
   ]
  },
  {
   "cell_type": "code",
   "execution_count": 5,
   "metadata": {},
   "outputs": [
    {
     "name": "stderr",
     "output_type": "stream",
     "text": [
      "c:\\users\\dom\\appdata\\local\\programs\\python\\python37-32\\lib\\site-packages\\pandas\\core\\reshape\\merge.py:618: UserWarning: merging between different levels can give an unintended result (1 levels on the left, 2 on the right)\n",
      "  warnings.warn(msg, UserWarning)\n"
     ]
    },
    {
     "data": {
      "text/html": [
       "<div>\n",
       "<style scoped>\n",
       "    .dataframe tbody tr th:only-of-type {\n",
       "        vertical-align: middle;\n",
       "    }\n",
       "\n",
       "    .dataframe tbody tr th {\n",
       "        vertical-align: top;\n",
       "    }\n",
       "\n",
       "    .dataframe thead th {\n",
       "        text-align: right;\n",
       "    }\n",
       "</style>\n",
       "<table border=\"1\" class=\"dataframe\">\n",
       "  <thead>\n",
       "    <tr style=\"text-align: right;\">\n",
       "      <th></th>\n",
       "      <th>Name</th>\n",
       "      <th>Sex</th>\n",
       "      <th>NOC</th>\n",
       "      <th>Season</th>\n",
       "      <th>Sport</th>\n",
       "      <th>Birth_Year</th>\n",
       "      <th>Num_Medals</th>\n",
       "      <th>Events</th>\n",
       "      <th>Years</th>\n",
       "      <th>Median_Age</th>\n",
       "      <th>Medalist</th>\n",
       "    </tr>\n",
       "    <tr>\n",
       "      <th>Athlete_ID</th>\n",
       "      <th></th>\n",
       "      <th></th>\n",
       "      <th></th>\n",
       "      <th></th>\n",
       "      <th></th>\n",
       "      <th></th>\n",
       "      <th></th>\n",
       "      <th></th>\n",
       "      <th></th>\n",
       "      <th></th>\n",
       "      <th></th>\n",
       "    </tr>\n",
       "  </thead>\n",
       "  <tbody>\n",
       "    <tr>\n",
       "      <th>2</th>\n",
       "      <td>a lamusi</td>\n",
       "      <td>M</td>\n",
       "      <td>chn</td>\n",
       "      <td>summer</td>\n",
       "      <td>judo</td>\n",
       "      <td>1989.0</td>\n",
       "      <td>0</td>\n",
       "      <td>[extra-lightweight]</td>\n",
       "      <td>[2012]</td>\n",
       "      <td>23</td>\n",
       "      <td>False</td>\n",
       "    </tr>\n",
       "    <tr>\n",
       "      <th>5</th>\n",
       "      <td>christine jacoba aaftink</td>\n",
       "      <td>F</td>\n",
       "      <td>ned</td>\n",
       "      <td>winter</td>\n",
       "      <td>speed skating</td>\n",
       "      <td>1967.0</td>\n",
       "      <td>0</td>\n",
       "      <td>[500 metres, 1,000 metres]</td>\n",
       "      <td>[1988, 1992, 1994]</td>\n",
       "      <td>25</td>\n",
       "      <td>False</td>\n",
       "    </tr>\n",
       "    <tr>\n",
       "      <th>6</th>\n",
       "      <td>per knut aaland</td>\n",
       "      <td>M</td>\n",
       "      <td>usa</td>\n",
       "      <td>winter</td>\n",
       "      <td>cross country skiing</td>\n",
       "      <td>1961.0</td>\n",
       "      <td>0</td>\n",
       "      <td>[10 kilometres, 50 kilometres, 10/15 kilometre...</td>\n",
       "      <td>[1992, 1994]</td>\n",
       "      <td>32</td>\n",
       "      <td>False</td>\n",
       "    </tr>\n",
       "    <tr>\n",
       "      <th>7</th>\n",
       "      <td>john aalberg</td>\n",
       "      <td>M</td>\n",
       "      <td>usa</td>\n",
       "      <td>winter</td>\n",
       "      <td>cross country skiing</td>\n",
       "      <td>1961.0</td>\n",
       "      <td>0</td>\n",
       "      <td>[10 kilometres, 50 kilometres, 10/15 kilometre...</td>\n",
       "      <td>[1992, 1994]</td>\n",
       "      <td>32</td>\n",
       "      <td>False</td>\n",
       "    </tr>\n",
       "    <tr>\n",
       "      <th>10</th>\n",
       "      <td>einar ferdinand \"einari\" aalto</td>\n",
       "      <td>M</td>\n",
       "      <td>fin</td>\n",
       "      <td>summer</td>\n",
       "      <td>swimming</td>\n",
       "      <td>1926.0</td>\n",
       "      <td>0</td>\n",
       "      <td>[400 metres freestyle]</td>\n",
       "      <td>[1952]</td>\n",
       "      <td>26</td>\n",
       "      <td>False</td>\n",
       "    </tr>\n",
       "  </tbody>\n",
       "</table>\n",
       "</div>"
      ],
      "text/plain": [
       "                                      Name Sex  NOC  Season  \\\n",
       "Athlete_ID                                                    \n",
       "2                                 a lamusi   M  chn  summer   \n",
       "5                 christine jacoba aaftink   F  ned  winter   \n",
       "6                          per knut aaland   M  usa  winter   \n",
       "7                             john aalberg   M  usa  winter   \n",
       "10          einar ferdinand \"einari\" aalto   M  fin  summer   \n",
       "\n",
       "                           Sport  Birth_Year  Num_Medals  \\\n",
       "Athlete_ID                                                 \n",
       "2                           judo      1989.0           0   \n",
       "5                  speed skating      1967.0           0   \n",
       "6           cross country skiing      1961.0           0   \n",
       "7           cross country skiing      1961.0           0   \n",
       "10                      swimming      1926.0           0   \n",
       "\n",
       "                                                       Events  \\\n",
       "Athlete_ID                                                      \n",
       "2                                         [extra-lightweight]   \n",
       "5                                  [500 metres, 1,000 metres]   \n",
       "6           [10 kilometres, 50 kilometres, 10/15 kilometre...   \n",
       "7           [10 kilometres, 50 kilometres, 10/15 kilometre...   \n",
       "10                                     [400 metres freestyle]   \n",
       "\n",
       "                         Years  Median_Age  Medalist  \n",
       "Athlete_ID                                            \n",
       "2                       [2012]          23     False  \n",
       "5           [1988, 1992, 1994]          25     False  \n",
       "6                 [1992, 1994]          32     False  \n",
       "7                 [1992, 1994]          32     False  \n",
       "10                      [1952]          26     False  "
      ]
     },
     "execution_count": 5,
     "metadata": {},
     "output_type": "execute_result"
    }
   ],
   "source": [
    "# Group data such that each athlete only has one entry\n",
    "unique_athlete_df=DataCleaner.unique_athlete(athlete_df)\n",
    "unique_athlete_df.head()"
   ]
  },
  {
   "cell_type": "code",
   "execution_count": 6,
   "metadata": {},
   "outputs": [],
   "source": [
    "# Split data by sex\n",
    "male_athletes_df=unique_athlete_df[unique_athlete_df[\"Sex\"]==\"M\"]\n",
    "female_athletes_df=unique_athlete_df[unique_athlete_df[\"Sex\"]==\"F\"]"
   ]
  },
  {
   "cell_type": "markdown",
   "metadata": {},
   "source": [
    "# Dataset Details"
   ]
  },
  {
   "cell_type": "code",
   "execution_count": 7,
   "metadata": {},
   "outputs": [
    {
     "name": "stdout",
     "output_type": "stream",
     "text": [
      "`male_athletes_df` contains 64,016 athletes, 10,776 of whom have won a medal.\n",
      "`female_athletes_df` contains 27,546 athletes, 5,333 of whom have won a medal.\n",
      "`athlete_df` contains 200,969 entries.\n",
      "\t91,562 athletes\n",
      "\t200,969 medals\n",
      "\t18 summer games (1948-2016).\n",
      "\t18 winter games (1948-2014).\n",
      "\t41 sports (27 summer, 14 winter).\n",
      "\t278 events (221 summer, 67 winter).\n",
      "\n"
     ]
    }
   ],
   "source": [
    "print(\"`male_athletes_df` contains {:,} athletes, {:,} of whom have won a medal.\".format(male_athletes_df.shape[0],male_athletes_df[\"Medalist\"].sum()))\n",
    "print(\"`female_athletes_df` contains {:,} athletes, {:,} of whom have won a medal.\".format(female_athletes_df.shape[0],female_athletes_df[\"Medalist\"].sum()))\n",
    "\n",
    "print(\"`athlete_df` contains {:,} entries.\".format(athlete_df.shape[0]))\n",
    "summer_games=athlete_df[athlete_df[\"Season\"]==\"summer\"]\n",
    "winter_games=athlete_df[athlete_df[\"Season\"]==\"winter\"]\n",
    "print(\"\\t{:,} athletes\".format(len(athlete_df[\"Athlete_ID\"].unique())))\n",
    "print(\"\\t{:,} medals\".format(athlete_df[\"Athlete_ID\"].notnull().sum()))\n",
    "print(\"\\t{} summer games ({}-{}).\".format(len(summer_games[\"Year\"].unique()),summer_games[\"Year\"].min(),summer_games[\"Year\"].max()))\n",
    "print(\"\\t{} winter games ({}-{}).\".format(len(winter_games[\"Year\"].unique()),winter_games[\"Year\"].min(),winter_games[\"Year\"].max()))\n",
    "print(\"\\t{} sports ({} summer, {} winter).\".format(len(athlete_df[\"Sport\"].unique()),len(summer_games[\"Sport\"].unique()),len(winter_games[\"Sport\"].unique())))\n",
    "print(\"\\t{} events ({} summer, {} winter).\\n\".format(len(athlete_df[\"Event\"].unique()),len(summer_games[\"Event\"].unique()),len(winter_games[\"Event\"].unique())))\n"
   ]
  },
  {
   "cell_type": "markdown",
   "metadata": {},
   "source": [
    "# Overall Age Distribution"
   ]
  },
  {
   "cell_type": "code",
   "execution_count": 20,
   "metadata": {},
   "outputs": [
    {
     "data": {
      "image/png": "[encoded data removed]",
      "text/plain": [
       "<Figure size 1008x360 with 1 Axes>"
      ]
     },
     "metadata": {
      "needs_background": "light"
     },
     "output_type": "display_data"
    }
   ],
   "source": [
    "def plot_distribution(df:pd.DataFrame,ax,xlims:(int,int),ylims:(int,int),eval_points:[int],colours:(str,str),label_header:str):\n",
    "    medalist_label=\"{} Medalists (n={:,})\".format(label_header,df[\"Medalist\"].sum())\n",
    "    competitor_label=\"{} Competitors (n={:,})\".format(label_header,df.shape[0])\n",
    "    \n",
    "    df[df[\"Medalist\"]][\"Median_Age\"].plot.kde(ind=eval_points,xlim=xlims,ylim=ylims,label=medalist_label,color=colours[0],ax=ax)\n",
    "    df[\"Median_Age\"].plot.kde(ind=eval_points,xlim=xlims,ylim=ylims,label=competitor_label,color=colours[1],ax=ax)\n",
    "    \n",
    "    ax.axvline(x=df[df[\"Medalist\"]][\"Median_Age\"].mean(),color=colours[0],ls=\"--\")\n",
    "    ax.axvline(x=df[\"Median_Age\"].mean(),color=colours[1],ls=\"--\",)    \n",
    "\n",
    "fig,axes=plt.subplots(figsize=(14,5),nrows=1,ncols=1)\n",
    "# kde plot of age distribution for medal winners against non-winners\n",
    "# suggests medal winners are slightly older\n",
    "xlims=(10*(unique_athlete_df[\"Median_Age\"].min()//10),10*(unique_athlete_df[\"Median_Age\"].max()//10))\n",
    "ylims=(0,.12)\n",
    "eval_points=[i for i in range(int(xlims[0]),int(xlims[1])+1)] # estimate distribution at each year\n",
    "\n",
    "# Plot data\n",
    "plot_distribution(male_athletes_df,axes,xlims,ylims,eval_points,[\"blue\",\"black\"],\"Male\")\n",
    "plot_distribution(female_athletes_df,axes,xlims,ylims,eval_points,[\"pink\",\"gray\"],\"Female\")\n",
    "\n",
    "# style chart\n",
    "axes.set_title(\"Figure 4: Age Distribution for Medalists and All Competitors\")\n",
    "axes.set_xlabel(\"Median Age\")\n",
    "axes.xaxis.grid(True)\n",
    "axes.legend()\n",
    "\n",
    "plt.show()"
   ]
  },
  {
   "cell_type": "markdown",
   "metadata": {},
   "source": [
    "This plot shows similar results to that of *Figure 1* with medalists appearing to be slightly older than competitors.\\\n",
    "The plot sugggests that female athletes are notably younger than male, with significantly more being under 20. This is likely due to sports such as gymnastics where young teenagers often compete."
   ]
  },
  {
   "cell_type": "markdown",
   "metadata": {},
   "source": [
    "# Normalised Age Distribution"
   ]
  },
  {
   "cell_type": "code",
   "execution_count": 12,
   "metadata": {},
   "outputs": [
    {
     "data": {
      "text/html": [
       "<div>\n",
       "<style scoped>\n",
       "    .dataframe tbody tr th:only-of-type {\n",
       "        vertical-align: middle;\n",
       "    }\n",
       "\n",
       "    .dataframe tbody tr th {\n",
       "        vertical-align: top;\n",
       "    }\n",
       "\n",
       "    .dataframe thead th {\n",
       "        text-align: right;\n",
       "    }\n",
       "</style>\n",
       "<table border=\"1\" class=\"dataframe\">\n",
       "  <thead>\n",
       "    <tr style=\"text-align: right;\">\n",
       "      <th></th>\n",
       "      <th>Name</th>\n",
       "      <th>Sex</th>\n",
       "      <th>NOC</th>\n",
       "      <th>Season</th>\n",
       "      <th>Sport</th>\n",
       "      <th>Birth_Year</th>\n",
       "      <th>Num_Medals</th>\n",
       "      <th>Events</th>\n",
       "      <th>Years</th>\n",
       "      <th>Median_Age</th>\n",
       "      <th>Medalist</th>\n",
       "      <th>Cycle_Age</th>\n",
       "    </tr>\n",
       "    <tr>\n",
       "      <th>Athlete_ID</th>\n",
       "      <th></th>\n",
       "      <th></th>\n",
       "      <th></th>\n",
       "      <th></th>\n",
       "      <th></th>\n",
       "      <th></th>\n",
       "      <th></th>\n",
       "      <th></th>\n",
       "      <th></th>\n",
       "      <th></th>\n",
       "      <th></th>\n",
       "      <th></th>\n",
       "    </tr>\n",
       "  </thead>\n",
       "  <tbody>\n",
       "    <tr>\n",
       "      <th>5</th>\n",
       "      <td>christine jacoba aaftink</td>\n",
       "      <td>F</td>\n",
       "      <td>ned</td>\n",
       "      <td>winter</td>\n",
       "      <td>speed skating</td>\n",
       "      <td>1967.0</td>\n",
       "      <td>0</td>\n",
       "      <td>[500 metres, 1,000 metres]</td>\n",
       "      <td>[1988, 1992, 1994]</td>\n",
       "      <td>25</td>\n",
       "      <td>False</td>\n",
       "      <td>3.0</td>\n",
       "    </tr>\n",
       "    <tr>\n",
       "      <th>13</th>\n",
       "      <td>minna maarit aalto</td>\n",
       "      <td>F</td>\n",
       "      <td>fin</td>\n",
       "      <td>summer</td>\n",
       "      <td>sailing</td>\n",
       "      <td>1966.0</td>\n",
       "      <td>0</td>\n",
       "      <td>[windsurfer]</td>\n",
       "      <td>[1996, 2000]</td>\n",
       "      <td>32</td>\n",
       "      <td>False</td>\n",
       "      <td>2.0</td>\n",
       "    </tr>\n",
       "    <tr>\n",
       "      <th>14</th>\n",
       "      <td>pirjo hannele aalto (mattila-)</td>\n",
       "      <td>F</td>\n",
       "      <td>fin</td>\n",
       "      <td>winter</td>\n",
       "      <td>biathlon</td>\n",
       "      <td>1962.0</td>\n",
       "      <td>0</td>\n",
       "      <td>[7.5 kilometres sprint]</td>\n",
       "      <td>[1994]</td>\n",
       "      <td>32</td>\n",
       "      <td>False</td>\n",
       "      <td>2.0</td>\n",
       "    </tr>\n",
       "    <tr>\n",
       "      <th>22</th>\n",
       "      <td>andreea aanei</td>\n",
       "      <td>F</td>\n",
       "      <td>rou</td>\n",
       "      <td>summer</td>\n",
       "      <td>weightlifting</td>\n",
       "      <td>1994.0</td>\n",
       "      <td>0</td>\n",
       "      <td>[super-heavyweight]</td>\n",
       "      <td>[2016]</td>\n",
       "      <td>22</td>\n",
       "      <td>False</td>\n",
       "      <td>2.0</td>\n",
       "    </tr>\n",
       "    <tr>\n",
       "      <th>26</th>\n",
       "      <td>agnes erika aanonsen (-eyde)</td>\n",
       "      <td>F</td>\n",
       "      <td>nor</td>\n",
       "      <td>winter</td>\n",
       "      <td>luge</td>\n",
       "      <td>1967.0</td>\n",
       "      <td>0</td>\n",
       "      <td>[singles]</td>\n",
       "      <td>[1984]</td>\n",
       "      <td>17</td>\n",
       "      <td>False</td>\n",
       "      <td>3.0</td>\n",
       "    </tr>\n",
       "  </tbody>\n",
       "</table>\n",
       "</div>"
      ],
      "text/plain": [
       "                                      Name Sex  NOC  Season          Sport  \\\n",
       "Athlete_ID                                                                   \n",
       "5                 christine jacoba aaftink   F  ned  winter  speed skating   \n",
       "13                      minna maarit aalto   F  fin  summer        sailing   \n",
       "14          pirjo hannele aalto (mattila-)   F  fin  winter       biathlon   \n",
       "22                           andreea aanei   F  rou  summer  weightlifting   \n",
       "26            agnes erika aanonsen (-eyde)   F  nor  winter           luge   \n",
       "\n",
       "            Birth_Year  Num_Medals                      Events  \\\n",
       "Athlete_ID                                                       \n",
       "5               1967.0           0  [500 metres, 1,000 metres]   \n",
       "13              1966.0           0                [windsurfer]   \n",
       "14              1962.0           0     [7.5 kilometres sprint]   \n",
       "22              1994.0           0         [super-heavyweight]   \n",
       "26              1967.0           0                   [singles]   \n",
       "\n",
       "                         Years  Median_Age  Medalist  Cycle_Age  \n",
       "Athlete_ID                                                       \n",
       "5           [1988, 1992, 1994]          25     False        3.0  \n",
       "13                [1996, 2000]          32     False        2.0  \n",
       "14                      [1994]          32     False        2.0  \n",
       "22                      [2016]          22     False        2.0  \n",
       "26                      [1984]          17     False        3.0  "
      ]
     },
     "execution_count": 12,
     "metadata": {},
     "output_type": "execute_result"
    }
   ],
   "source": [
    "# Determine how many years after an olympics an athlete was born\n",
    "# This is complicated by the fact that the summer & winter games were in sync until 1994\n",
    "def add_cycle_age(df:pd.DataFrame) -> pd.DataFrame:\n",
    "    if (\"Cycle_Age\" in df.columns): return df\n",
    "    summer_athletes=(df[\"Season\"]==\"summer\")\n",
    "    pre_change_winter_athletes=((df[\"Season\"]==\"winter\") & (df[\"Birth_Year\"]<1994))\n",
    "    post_change_winter_athletes=((df[\"Season\"]==\"winter\") & (df[\"Birth_Year\"]>=1994))\n",
    "\n",
    "    df.loc[summer_athletes,\"Cycle_Age\"]=(df.loc[summer_athletes,\"Birth_Year\"]%4)\n",
    "    df.loc[pre_change_winter_athletes,\"Cycle_Age\"]=(df.loc[pre_change_winter_athletes,\"Birth_Year\"]%4)\n",
    "    df.loc[post_change_winter_athletes,\"Cycle_Age\"]=((df.loc[post_change_winter_athletes,\"Birth_Year\"]-2)%4)\n",
    "    \n",
    "    return df\n",
    "\n",
    "fig,axes=plt.subplots(figsize=(14,5),nrows=1,ncols=1)male_athletes_df=add_cycle_age(male_athletes_df)\n",
    "female_athletes_df=add_cycle_age(female_athletes_df)\n",
    "\n",
    "female_athletes_df.head()"
   ]
  },
  {
   "cell_type": "code",
   "execution_count": 21,
   "metadata": {},
   "outputs": [
    {
     "data": {
      "image/png": "[encoded data removed]",
      "text/plain": [
       "<Figure size 1008x360 with 2 Axes>"
      ]
     },
     "metadata": {
      "needs_background": "light"
     },
     "output_type": "display_data"
    }
   ],
   "source": [
    "def plot_normalised_age(df:pd.DataFrame,ax,title:str,colours:(str,str)):\n",
    "    medalists=df[df[\"Medalist\"]][\"Cycle_Age\"].value_counts(normalize=True).sort_index()\n",
    "    competitors=df[\"Cycle_Age\"].value_counts(normalize=True).sort_index()\n",
    "\n",
    "    xlims=(-.5,3.5)\n",
    "    x_tick_labels=range(0,4)\n",
    "    ylims=(.22,.28)\n",
    "    y_tick_labels=[x/100 for x in range(int(100*ylims[0]),int(100*ylims[1])+1,1)]\n",
    "\n",
    "    # Plot data for all athletes\n",
    "    medalist_label=\"Medalists (n={:,})\".format(df[\"Medalist\"].sum())\n",
    "    competitor_label=\"All Competitors (n={:,})\".format(df.shape[0])\n",
    "    medalists.plot(ax=ax,ylim=ylims,xlim=xlims,label=medalist_label,c=colours[0])\n",
    "    competitors.plot(ax=ax,ylim=ylims,xlim=xlims,label=competitor_label,c=colours[1])\n",
    "\n",
    "    ax.set_title(title)\n",
    "    ax.axhline(y=.25,xmin=.125,xmax=.875,color=\"red\",ls=\"--\")\n",
    "    ax.set_xlabel(\"Normalised Age\")\n",
    "    ax.set_xticks(x_tick_labels)\n",
    "    ax.set_yticks(y_tick_labels)\n",
    "    ax.legend()\n",
    "\n",
    "fig,axes=plt.subplots(figsize=(14,5),nrows=1,ncols=2)\n",
    "plot_normalised_age(male_athletes_df,axes[0],\"Figure 5: Normalised Age Distribution for Male Athlete\",colours=[\"blue\",\"black\"])\n",
    "plot_normalised_age(female_athletes_df,axes[1],\"Figure 6: Normalised Age Distribution for Female Athlete\",colours=[\"pink\",\"gray\"])\n",
    "plt.show()"
   ]
  },
  {
   "cell_type": "markdown",
   "metadata": {},
   "source": [
    "Both plots suggest the distribution of normalised competitor ages is relatively uniform, although both show fewer olympians are born at the end of an olympic cycle.\\\n",
    "Both plots show much greater variation in the age distribution of medalists, but not the same variations which would explain why they were not so prominent in the plots of the whole population.\\\n",
    "As in [Overview Analsysis](Overview%20Analysis.ipynb) I am going to test whether these deviations from a uniform distribution are statistically significant."
   ]
  },
  {
   "cell_type": "markdown",
   "metadata": {},
   "source": [
    "## Statistical Significance"
   ]
  },
  {
   "cell_type": "code",
   "execution_count": 22,
   "metadata": {},
   "outputs": [],
   "source": [
    "from scipy.stats import chisquare"
   ]
  },
  {
   "cell_type": "code",
   "execution_count": 27,
   "metadata": {},
   "outputs": [],
   "source": [
    "def chisquare_uniform(df,col=\"Cycle_Age\",print_vals=True) -> (float,float):\n",
    "    f_obs=df[col].value_counts().sort_index().values\n",
    "    f_exp=np.repeat(sum(f_obs)/len(f_obs),len(f_obs))\n",
    "    if print_vals: print(\"Observed occs: {}.\\nExpected occs: {}\".format(f_obs,f_exp))\n",
    "    return chisquare(f_obs,f_exp)"
   ]
  },
  {
   "cell_type": "code",
   "execution_count": 31,
   "metadata": {},
   "outputs": [
    {
     "name": "stdout",
     "output_type": "stream",
     "text": [
      "Observed occs: [16129 16065 15932 15890].\n",
      "Expected occs: [16004. 16004. 16004. 16004.]\n",
      "t_obs=2.34479.\n",
      "p_value=0.50399490.\n",
      "*Not* Statistically Significant\n",
      "\n",
      "Observed occs: [6826 6948 6917 6855].\n",
      "Expected occs: [6886.5 6886.5 6886.5 6886.5]\n",
      "t_obs=1.35991.\n",
      "p_value=0.71495905.\n",
      "*Not* Statistically Significant\n",
      "\n",
      "Observed occs: [2666 2632 2780 2698].\n",
      "Expected occs: [2694. 2694. 2694. 2694.]\n",
      "t_obs=4.46919.\n",
      "p_value=0.21505492.\n",
      "*Not* Statistically Significant\n",
      "\n",
      "Observed occs: [1308 1355 1310 1360].\n",
      "Expected occs: [1333.25 1333.25 1333.25 1333.25]\n",
      "t_obs=1.77517.\n",
      "p_value=0.62035232.\n",
      "*Not* Statistically Significant\n",
      "\n"
     ]
    }
   ],
   "source": [
    "# male athletes\n",
    "t_obs,p_value=chisquare_uniform(male_athletes_df)\n",
    "print(\"t_obs={:.5f}.\\np_value={:.8f}.\\n{}Statistically Significant\\n\".format(t_obs,p_value,\"\" if (p_value<=.1) else \"*Not* \"))\n",
    "\n",
    "# female athletes\n",
    "t_obs,p_value=chisquare_uniform(female_athletes_df)\n",
    "print(\"t_obs={:.5f}.\\np_value={:.8f}.\\n{}Statistically Significant\\n\".format(t_obs,p_value,\"\" if (p_value<=.1) else \"*Not* \"))\n",
    "\n",
    "# male medalists\n",
    "t_obs,p_value=chisquare_uniform(male_athletes_df[male_athletes_df[\"Medalist\"]])\n",
    "print(\"t_obs={:.5f}.\\np_value={:.8f}.\\n{}Statistically Significant\\n\".format(t_obs,p_value,\"\" if (p_value<=.1) else \"*Not* \"))\n",
    "\n",
    "# female medalists\n",
    "t_obs,p_value=chisquare_uniform(female_athletes_df[female_athletes_df[\"Medalist\"]])\n",
    "print(\"t_obs={:.5f}.\\np_value={:.8f}.\\n{}Statistically Significant\\n\".format(t_obs,p_value,\"\" if (p_value<=.1) else \"*Not* \"))"
   ]
  },
  {
   "cell_type": "markdown",
   "metadata": {},
   "source": [
    "There is insufficient evidence to suggest that *any* of the distributions are **not** uniform."
   ]
  },
  {
   "cell_type": "markdown",
   "metadata": {},
   "source": [
    "# Conclusion\n",
    "There is no statisically significant evidence that, when considering a person's sex, being born in a particular year of an olympic cycle increases the likelihood of you competing or medalling at an Olympics."
   ]
  },
  {
   "cell_type": "code",
   "execution_count": null,
   "metadata": {},
   "outputs": [],
   "source": []
  }
 ],
 "metadata": {
  "kernelspec": {
   "display_name": "Python 3",
   "language": "python",
   "name": "python3"
  },
  "language_info": {
   "codemirror_mode": {
    "name": "ipython",
    "version": 3
   },
   "file_extension": ".py",
   "mimetype": "text/x-python",
   "name": "python",
   "nbconvert_exporter": "python",
   "pygments_lexer": "ipython3",
   "version": "3.7.3"
  }
 },
 "nbformat": 4,
 "nbformat_minor": 2
}
